{
 "cells": [
  {
   "cell_type": "code",
   "execution_count": 1,
   "id": "d453e1a467d0c9d3",
   "metadata": {
    "ExecuteTime": {
     "end_time": "2025-01-18T04:45:02.048722Z",
     "start_time": "2025-01-18T04:45:00.872713Z"
    }
   },
   "outputs": [],
   "source": [
    "import pandas as pd\n",
    "import math"
   ]
  },
  {
   "cell_type": "code",
   "execution_count": 2,
   "id": "c7e9d039cbae941b",
   "metadata": {
    "ExecuteTime": {
     "end_time": "2025-01-18T04:46:01.655687Z",
     "start_time": "2025-01-18T04:46:01.628755Z"
    }
   },
   "outputs": [],
   "source": [
    "data = pd.read_csv(\"train.csv\")"
   ]
  },
  {
   "cell_type": "code",
   "execution_count": 3,
   "id": "1cbf37f9a2ef6ad9",
   "metadata": {
    "ExecuteTime": {
     "end_time": "2025-01-18T05:02:41.157566Z",
     "start_time": "2025-01-18T05:02:41.133746Z"
    }
   },
   "outputs": [
    {
     "name": "stdout",
     "output_type": "stream",
     "text": [
      "<class 'pandas.core.frame.DataFrame'>\n",
      "RangeIndex: 8925 entries, 0 to 8924\n",
      "Data columns (total 12 columns):\n",
      " #   Column                 Non-Null Count  Dtype  \n",
      "---  ------                 --------------  -----  \n",
      " 0   matchId                8925 non-null   object \n",
      " 1   playerId               8925 non-null   object \n",
      " 2   playType               8925 non-null   object \n",
      " 3   bodyPart               8925 non-null   object \n",
      " 4   x                      8925 non-null   float64\n",
      " 5   y                      8925 non-null   float64\n",
      " 6   interveningOpponents   8925 non-null   int64  \n",
      " 7   interveningTeammates   8925 non-null   int64  \n",
      " 8   interferenceOnShooter  8891 non-null   object \n",
      " 9   minute                 8925 non-null   int64  \n",
      " 10  second                 8925 non-null   int64  \n",
      " 11  outcome                8925 non-null   object \n",
      "dtypes: float64(2), int64(4), object(6)\n",
      "memory usage: 836.8+ KB\n"
     ]
    }
   ],
   "source": [
    "data.info()"
   ]
  },
  {
   "cell_type": "code",
   "execution_count": 4,
   "id": "639cf581cddaba36",
   "metadata": {
    "ExecuteTime": {
     "end_time": "2025-01-18T05:02:50.984901Z",
     "start_time": "2025-01-18T05:02:50.978388Z"
    }
   },
   "outputs": [
    {
     "data": {
      "text/plain": [
       "160"
      ]
     },
     "execution_count": 4,
     "metadata": {},
     "output_type": "execute_result"
    }
   ],
   "source": [
    "#1. Players Count\n",
    "data.playerId.nunique()"
   ]
  },
  {
   "cell_type": "code",
   "execution_count": 5,
   "id": "7e72467ff639e5d0",
   "metadata": {
    "ExecuteTime": {
     "end_time": "2025-01-18T05:12:01.583028Z",
     "start_time": "2025-01-18T05:12:01.566185Z"
    }
   },
   "outputs": [
    {
     "data": {
      "text/plain": [
       "'p_18'"
      ]
     },
     "execution_count": 5,
     "metadata": {},
     "output_type": "execute_result"
    }
   ],
   "source": [
    "#2. Which Player has the most number of goals?\n",
    "goal_data = data[data.outcome == \"گُل\"]\n",
    "goal_data.playerId.value_counts().idxmax()"
   ]
  },
  {
   "cell_type": "code",
   "execution_count": 6,
   "id": "ab47d845f0747b0",
   "metadata": {
    "ExecuteTime": {
     "end_time": "2025-01-18T05:15:50.041443Z",
     "start_time": "2025-01-18T05:15:50.036478Z"
    }
   },
   "outputs": [
    {
     "name": "stdout",
     "output_type": "stream",
     "text": [
      "p_18 p_141\n"
     ]
    }
   ],
   "source": [
    "#3. Players That have Most rate shots to goal\n",
    "most_goal = goal_data.playerId.value_counts().idxmax()\n",
    "min_goal = goal_data.playerId.value_counts().idxmin()\n",
    "print(most_goal, min_goal)"
   ]
  },
  {
   "cell_type": "code",
   "execution_count": 7,
   "id": "66703649ee741e91",
   "metadata": {
    "ExecuteTime": {
     "end_time": "2025-01-18T06:03:30.636090Z",
     "start_time": "2025-01-18T06:03:30.556176Z"
    }
   },
   "outputs": [],
   "source": [
    "data[\"distance\"] = data[[\"x\", \"y\"]].apply(lambda position: math.dist([0, 0], [position.x, position.y]), axis=1)"
   ]
  },
  {
   "cell_type": "code",
   "execution_count": 8,
   "id": "c60bb830a1801f0f",
   "metadata": {
    "ExecuteTime": {
     "end_time": "2025-01-18T06:10:55.827732Z",
     "start_time": "2025-01-18T06:10:55.806015Z"
    }
   },
   "outputs": [
    {
     "data": {
      "text/html": [
       "<div>\n",
       "<style scoped>\n",
       "    .dataframe tbody tr th:only-of-type {\n",
       "        vertical-align: middle;\n",
       "    }\n",
       "\n",
       "    .dataframe tbody tr th {\n",
       "        vertical-align: top;\n",
       "    }\n",
       "\n",
       "    .dataframe thead th {\n",
       "        text-align: right;\n",
       "    }\n",
       "</style>\n",
       "<table border=\"1\" class=\"dataframe\">\n",
       "  <thead>\n",
       "    <tr style=\"text-align: right;\">\n",
       "      <th></th>\n",
       "      <th>x</th>\n",
       "      <th>y</th>\n",
       "      <th>interveningOpponents</th>\n",
       "      <th>interveningTeammates</th>\n",
       "      <th>minute</th>\n",
       "      <th>second</th>\n",
       "      <th>distance</th>\n",
       "    </tr>\n",
       "  </thead>\n",
       "  <tbody>\n",
       "    <tr>\n",
       "      <th>count</th>\n",
       "      <td>8925.000000</td>\n",
       "      <td>8925.000000</td>\n",
       "      <td>8925.000000</td>\n",
       "      <td>8925.000000</td>\n",
       "      <td>8925.000000</td>\n",
       "      <td>8925.000000</td>\n",
       "      <td>8925.000000</td>\n",
       "    </tr>\n",
       "    <tr>\n",
       "      <th>mean</th>\n",
       "      <td>14.564631</td>\n",
       "      <td>0.364408</td>\n",
       "      <td>2.531989</td>\n",
       "      <td>0.336471</td>\n",
       "      <td>48.541401</td>\n",
       "      <td>29.243810</td>\n",
       "      <td>17.145509</td>\n",
       "    </tr>\n",
       "    <tr>\n",
       "      <th>std</th>\n",
       "      <td>7.841865</td>\n",
       "      <td>8.999063</td>\n",
       "      <td>1.386693</td>\n",
       "      <td>0.680175</td>\n",
       "      <td>26.397998</td>\n",
       "      <td>17.306565</td>\n",
       "      <td>7.794973</td>\n",
       "    </tr>\n",
       "    <tr>\n",
       "      <th>min</th>\n",
       "      <td>0.000000</td>\n",
       "      <td>-33.920000</td>\n",
       "      <td>0.000000</td>\n",
       "      <td>0.000000</td>\n",
       "      <td>0.000000</td>\n",
       "      <td>0.000000</td>\n",
       "      <td>0.353553</td>\n",
       "    </tr>\n",
       "    <tr>\n",
       "      <th>25%</th>\n",
       "      <td>8.480000</td>\n",
       "      <td>-5.740000</td>\n",
       "      <td>2.000000</td>\n",
       "      <td>0.000000</td>\n",
       "      <td>26.000000</td>\n",
       "      <td>14.000000</td>\n",
       "      <td>10.970000</td>\n",
       "    </tr>\n",
       "    <tr>\n",
       "      <th>50%</th>\n",
       "      <td>12.470000</td>\n",
       "      <td>0.500000</td>\n",
       "      <td>2.000000</td>\n",
       "      <td>0.000000</td>\n",
       "      <td>49.000000</td>\n",
       "      <td>29.000000</td>\n",
       "      <td>15.871950</td>\n",
       "    </tr>\n",
       "    <tr>\n",
       "      <th>75%</th>\n",
       "      <td>20.950000</td>\n",
       "      <td>6.730000</td>\n",
       "      <td>3.000000</td>\n",
       "      <td>0.000000</td>\n",
       "      <td>71.000000</td>\n",
       "      <td>44.000000</td>\n",
       "      <td>23.629932</td>\n",
       "    </tr>\n",
       "    <tr>\n",
       "      <th>max</th>\n",
       "      <td>70.820000</td>\n",
       "      <td>33.920000</td>\n",
       "      <td>11.000000</td>\n",
       "      <td>7.000000</td>\n",
       "      <td>98.000000</td>\n",
       "      <td>59.000000</td>\n",
       "      <td>71.783221</td>\n",
       "    </tr>\n",
       "  </tbody>\n",
       "</table>\n",
       "</div>"
      ],
      "text/plain": [
       "                 x            y  interveningOpponents  interveningTeammates  \\\n",
       "count  8925.000000  8925.000000           8925.000000           8925.000000   \n",
       "mean     14.564631     0.364408              2.531989              0.336471   \n",
       "std       7.841865     8.999063              1.386693              0.680175   \n",
       "min       0.000000   -33.920000              0.000000              0.000000   \n",
       "25%       8.480000    -5.740000              2.000000              0.000000   \n",
       "50%      12.470000     0.500000              2.000000              0.000000   \n",
       "75%      20.950000     6.730000              3.000000              0.000000   \n",
       "max      70.820000    33.920000             11.000000              7.000000   \n",
       "\n",
       "            minute       second     distance  \n",
       "count  8925.000000  8925.000000  8925.000000  \n",
       "mean     48.541401    29.243810    17.145509  \n",
       "std      26.397998    17.306565     7.794973  \n",
       "min       0.000000     0.000000     0.353553  \n",
       "25%      26.000000    14.000000    10.970000  \n",
       "50%      49.000000    29.000000    15.871950  \n",
       "75%      71.000000    44.000000    23.629932  \n",
       "max      98.000000    59.000000    71.783221  "
      ]
     },
     "execution_count": 8,
     "metadata": {},
     "output_type": "execute_result"
    }
   ],
   "source": [
    "data.describe()"
   ]
  },
  {
   "cell_type": "code",
   "execution_count": 9,
   "id": "934037ce1a31aba6",
   "metadata": {
    "ExecuteTime": {
     "end_time": "2025-01-18T06:10:42.760068Z",
     "start_time": "2025-01-18T06:10:42.747110Z"
    }
   },
   "outputs": [
    {
     "name": "stdout",
     "output_type": "stream",
     "text": [
      "71\n"
     ]
    }
   ],
   "source": [
    "#4. Most Distance:\n",
    "print(int(data.distance.max()))"
   ]
  }
 ],
 "metadata": {
  "kernelspec": {
   "display_name": "Python 3",
   "language": "python",
   "name": "python3"
  },
  "language_info": {
   "codemirror_mode": {
    "name": "ipython",
    "version": 3
   },
   "file_extension": ".py",
   "mimetype": "text/x-python",
   "name": "python",
   "nbconvert_exporter": "python",
   "pygments_lexer": "ipython3",
   "version": "3.10.11"
  }
 },
 "nbformat": 5,
 "nbformat_minor": 9
}
