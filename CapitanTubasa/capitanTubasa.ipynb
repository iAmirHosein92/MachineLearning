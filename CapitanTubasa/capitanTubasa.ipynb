{
 "cells": [
  {
   "cell_type": "code",
   "id": "1789dfb93981bea",
   "metadata": {
    "ExecuteTime": {
     "end_time": "2025-01-18T07:18:46.674429Z",
     "start_time": "2025-01-18T07:18:46.440791Z"
    }
   },
   "source": [
    "import pandas as pd\n",
    "import math"
   ],
   "outputs": [],
   "execution_count": 1
  },
  {
   "metadata": {
    "ExecuteTime": {
     "end_time": "2025-01-18T07:18:46.694816Z",
     "start_time": "2025-01-18T07:18:46.679208Z"
    }
   },
   "cell_type": "code",
   "source": [
    "\n",
    "data = pd.read_csv(\"train.csv\")"
   ],
   "id": "b0decf7419e9460",
   "outputs": [],
   "execution_count": 2
  },
  {
   "metadata": {
    "ExecuteTime": {
     "end_time": "2025-01-18T07:18:46.804625Z",
     "start_time": "2025-01-18T07:18:46.797849Z"
    }
   },
   "cell_type": "code",
   "source": "data.info()",
   "id": "35aa1e5307fe7378",
   "outputs": [
    {
     "name": "stdout",
     "output_type": "stream",
     "text": [
      "<class 'pandas.core.frame.DataFrame'>\n",
      "RangeIndex: 8925 entries, 0 to 8924\n",
      "Data columns (total 12 columns):\n",
      " #   Column                 Non-Null Count  Dtype  \n",
      "---  ------                 --------------  -----  \n",
      " 0   matchId                8925 non-null   object \n",
      " 1   playerId               8925 non-null   object \n",
      " 2   playType               8925 non-null   object \n",
      " 3   bodyPart               8925 non-null   object \n",
      " 4   x                      8925 non-null   float64\n",
      " 5   y                      8925 non-null   float64\n",
      " 6   interveningOpponents   8925 non-null   int64  \n",
      " 7   interveningTeammates   8925 non-null   int64  \n",
      " 8   interferenceOnShooter  8891 non-null   object \n",
      " 9   minute                 8925 non-null   int64  \n",
      " 10  second                 8925 non-null   int64  \n",
      " 11  outcome                8925 non-null   object \n",
      "dtypes: float64(2), int64(4), object(6)\n",
      "memory usage: 836.8+ KB\n"
     ]
    }
   ],
   "execution_count": 3
  },
  {
   "metadata": {
    "ExecuteTime": {
     "end_time": "2025-01-18T07:18:46.812515Z",
     "start_time": "2025-01-18T07:18:46.808015Z"
    }
   },
   "cell_type": "code",
   "source": [
    "#1. Players Count\n",
    "data.playerId.nunique()"
   ],
   "id": "9da256264dffd7f",
   "outputs": [
    {
     "data": {
      "text/plain": [
       "160"
      ]
     },
     "execution_count": 4,
     "metadata": {},
     "output_type": "execute_result"
    }
   ],
   "execution_count": 4
  },
  {
   "metadata": {
    "ExecuteTime": {
     "end_time": "2025-01-18T07:18:46.887789Z",
     "start_time": "2025-01-18T07:18:46.880768Z"
    }
   },
   "cell_type": "code",
   "source": [
    "#2. Which Player has the most number of goals?\n",
    "goal_data = data[data.outcome == \"گُل\"]\n",
    "goal_data.playerId.value_counts().idxmax()"
   ],
   "id": "7cfee287bbaab48b",
   "outputs": [
    {
     "data": {
      "text/plain": [
       "'p_18'"
      ]
     },
     "execution_count": 5,
     "metadata": {},
     "output_type": "execute_result"
    }
   ],
   "execution_count": 5
  },
  {
   "metadata": {
    "ExecuteTime": {
     "end_time": "2025-01-18T07:18:46.968940Z",
     "start_time": "2025-01-18T07:18:46.965168Z"
    }
   },
   "cell_type": "code",
   "source": [
    "#3. Players That have Most rate shots to goal\n",
    "most_goal = goal_data.playerId.value_counts().idxmax()\n",
    "min_goal = goal_data.playerId.value_counts().idxmin()\n",
    "print(most_goal, min_goal)"
   ],
   "id": "749955f59ffa5db3",
   "outputs": [
    {
     "name": "stdout",
     "output_type": "stream",
     "text": [
      "p_18 p_141\n"
     ]
    }
   ],
   "execution_count": 6
  },
  {
   "metadata": {
    "ExecuteTime": {
     "end_time": "2025-01-18T07:18:47.080530Z",
     "start_time": "2025-01-18T07:18:47.024281Z"
    }
   },
   "cell_type": "code",
   "source": "data[\"distance\"] = data[[\"x\", \"y\"]].apply(lambda position: math.dist([0, 0], [position.x, position.y]), axis=1)",
   "id": "2eb722669a7a9558",
   "outputs": [],
   "execution_count": 7
  },
  {
   "metadata": {
    "ExecuteTime": {
     "end_time": "2025-01-18T07:18:47.103472Z",
     "start_time": "2025-01-18T07:18:47.090703Z"
    }
   },
   "cell_type": "code",
   "source": "data.describe()",
   "id": "547e93c49682d23c",
   "outputs": [
    {
     "data": {
      "text/plain": [
       "                 x            y  interveningOpponents  interveningTeammates  \\\n",
       "count  8925.000000  8925.000000           8925.000000           8925.000000   \n",
       "mean     14.564631     0.364408              2.531989              0.336471   \n",
       "std       7.841865     8.999063              1.386693              0.680175   \n",
       "min       0.000000   -33.920000              0.000000              0.000000   \n",
       "25%       8.480000    -5.740000              2.000000              0.000000   \n",
       "50%      12.470000     0.500000              2.000000              0.000000   \n",
       "75%      20.950000     6.730000              3.000000              0.000000   \n",
       "max      70.820000    33.920000             11.000000              7.000000   \n",
       "\n",
       "            minute       second     distance  \n",
       "count  8925.000000  8925.000000  8925.000000  \n",
       "mean     48.541401    29.243810    17.145509  \n",
       "std      26.397998    17.306565     7.794973  \n",
       "min       0.000000     0.000000     0.353553  \n",
       "25%      26.000000    14.000000    10.970000  \n",
       "50%      49.000000    29.000000    15.871950  \n",
       "75%      71.000000    44.000000    23.629932  \n",
       "max      98.000000    59.000000    71.783221  "
      ],
      "text/html": [
       "<div>\n",
       "<style scoped>\n",
       "    .dataframe tbody tr th:only-of-type {\n",
       "        vertical-align: middle;\n",
       "    }\n",
       "\n",
       "    .dataframe tbody tr th {\n",
       "        vertical-align: top;\n",
       "    }\n",
       "\n",
       "    .dataframe thead th {\n",
       "        text-align: right;\n",
       "    }\n",
       "</style>\n",
       "<table border=\"1\" class=\"dataframe\">\n",
       "  <thead>\n",
       "    <tr style=\"text-align: right;\">\n",
       "      <th></th>\n",
       "      <th>x</th>\n",
       "      <th>y</th>\n",
       "      <th>interveningOpponents</th>\n",
       "      <th>interveningTeammates</th>\n",
       "      <th>minute</th>\n",
       "      <th>second</th>\n",
       "      <th>distance</th>\n",
       "    </tr>\n",
       "  </thead>\n",
       "  <tbody>\n",
       "    <tr>\n",
       "      <th>count</th>\n",
       "      <td>8925.000000</td>\n",
       "      <td>8925.000000</td>\n",
       "      <td>8925.000000</td>\n",
       "      <td>8925.000000</td>\n",
       "      <td>8925.000000</td>\n",
       "      <td>8925.000000</td>\n",
       "      <td>8925.000000</td>\n",
       "    </tr>\n",
       "    <tr>\n",
       "      <th>mean</th>\n",
       "      <td>14.564631</td>\n",
       "      <td>0.364408</td>\n",
       "      <td>2.531989</td>\n",
       "      <td>0.336471</td>\n",
       "      <td>48.541401</td>\n",
       "      <td>29.243810</td>\n",
       "      <td>17.145509</td>\n",
       "    </tr>\n",
       "    <tr>\n",
       "      <th>std</th>\n",
       "      <td>7.841865</td>\n",
       "      <td>8.999063</td>\n",
       "      <td>1.386693</td>\n",
       "      <td>0.680175</td>\n",
       "      <td>26.397998</td>\n",
       "      <td>17.306565</td>\n",
       "      <td>7.794973</td>\n",
       "    </tr>\n",
       "    <tr>\n",
       "      <th>min</th>\n",
       "      <td>0.000000</td>\n",
       "      <td>-33.920000</td>\n",
       "      <td>0.000000</td>\n",
       "      <td>0.000000</td>\n",
       "      <td>0.000000</td>\n",
       "      <td>0.000000</td>\n",
       "      <td>0.353553</td>\n",
       "    </tr>\n",
       "    <tr>\n",
       "      <th>25%</th>\n",
       "      <td>8.480000</td>\n",
       "      <td>-5.740000</td>\n",
       "      <td>2.000000</td>\n",
       "      <td>0.000000</td>\n",
       "      <td>26.000000</td>\n",
       "      <td>14.000000</td>\n",
       "      <td>10.970000</td>\n",
       "    </tr>\n",
       "    <tr>\n",
       "      <th>50%</th>\n",
       "      <td>12.470000</td>\n",
       "      <td>0.500000</td>\n",
       "      <td>2.000000</td>\n",
       "      <td>0.000000</td>\n",
       "      <td>49.000000</td>\n",
       "      <td>29.000000</td>\n",
       "      <td>15.871950</td>\n",
       "    </tr>\n",
       "    <tr>\n",
       "      <th>75%</th>\n",
       "      <td>20.950000</td>\n",
       "      <td>6.730000</td>\n",
       "      <td>3.000000</td>\n",
       "      <td>0.000000</td>\n",
       "      <td>71.000000</td>\n",
       "      <td>44.000000</td>\n",
       "      <td>23.629932</td>\n",
       "    </tr>\n",
       "    <tr>\n",
       "      <th>max</th>\n",
       "      <td>70.820000</td>\n",
       "      <td>33.920000</td>\n",
       "      <td>11.000000</td>\n",
       "      <td>7.000000</td>\n",
       "      <td>98.000000</td>\n",
       "      <td>59.000000</td>\n",
       "      <td>71.783221</td>\n",
       "    </tr>\n",
       "  </tbody>\n",
       "</table>\n",
       "</div>"
      ]
     },
     "execution_count": 8,
     "metadata": {},
     "output_type": "execute_result"
    }
   ],
   "execution_count": 8
  },
  {
   "metadata": {
    "collapsed": true,
    "ExecuteTime": {
     "end_time": "2025-01-18T07:18:47.118101Z",
     "start_time": "2025-01-18T07:18:47.115409Z"
    }
   },
   "cell_type": "code",
   "source": [
    "#4. Most Distance\n",
    "print(int(data.distance.max()))"
   ],
   "id": "initial_id",
   "outputs": [
    {
     "name": "stdout",
     "output_type": "stream",
     "text": [
      "71\n"
     ]
    }
   ],
   "execution_count": 9
  }
 ],
 "metadata": {
  "kernelspec": {
   "display_name": "Python 3",
   "language": "python",
   "name": "python3"
  },
  "language_info": {
   "codemirror_mode": {
    "name": "ipython",
    "version": 2
   },
   "file_extension": ".py",
   "mimetype": "text/x-python",
   "name": "python",
   "nbconvert_exporter": "python",
   "pygments_lexer": "ipython2",
   "version": "2.7.6"
  }
 },
 "nbformat": 4,
 "nbformat_minor": 5
}
