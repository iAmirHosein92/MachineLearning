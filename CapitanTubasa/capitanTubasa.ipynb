{
 "cells": [
  {
   "metadata": {
    "ExecuteTime": {
     "end_time": "2025-01-18T04:45:02.048722Z",
     "start_time": "2025-01-18T04:45:00.872713Z"
    }
   },
   "cell_type": "code",
   "source": [
    "import pandas as pd\n",
    "import math"
   ],
   "id": "d453e1a467d0c9d3",
   "outputs": [],
   "execution_count": 1
  },
  {
   "metadata": {
    "ExecuteTime": {
     "end_time": "2025-01-18T04:46:01.655687Z",
     "start_time": "2025-01-18T04:46:01.628755Z"
    }
   },
   "cell_type": "code",
   "source": "data = pd.read_csv(\"train.csv\")",
   "id": "c7e9d039cbae941b",
   "outputs": [],
   "execution_count": 2
  },
  {
   "metadata": {
    "ExecuteTime": {
     "end_time": "2025-01-18T05:02:41.157566Z",
     "start_time": "2025-01-18T05:02:41.133746Z"
    }
   },
   "cell_type": "code",
   "source": "data.info()",
   "id": "1cbf37f9a2ef6ad9",
   "outputs": [
    {
     "name": "stdout",
     "output_type": "stream",
     "text": [
      "<class 'pandas.core.frame.DataFrame'>\n",
      "RangeIndex: 8925 entries, 0 to 8924\n",
      "Data columns (total 12 columns):\n",
      " #   Column                 Non-Null Count  Dtype  \n",
      "---  ------                 --------------  -----  \n",
      " 0   matchId                8925 non-null   object \n",
      " 1   playerId               8925 non-null   object \n",
      " 2   playType               8925 non-null   object \n",
      " 3   bodyPart               8925 non-null   object \n",
      " 4   x                      8925 non-null   float64\n",
      " 5   y                      8925 non-null   float64\n",
      " 6   interveningOpponents   8925 non-null   int64  \n",
      " 7   interveningTeammates   8925 non-null   int64  \n",
      " 8   interferenceOnShooter  8891 non-null   object \n",
      " 9   minute                 8925 non-null   int64  \n",
      " 10  second                 8925 non-null   int64  \n",
      " 11  outcome                8925 non-null   object \n",
      "dtypes: float64(2), int64(4), object(6)\n",
      "memory usage: 836.8+ KB\n"
     ]
    }
   ],
   "execution_count": 36
  },
  {
   "metadata": {
    "ExecuteTime": {
     "end_time": "2025-01-18T05:02:50.984901Z",
     "start_time": "2025-01-18T05:02:50.978388Z"
    }
   },
   "cell_type": "code",
   "source": [
    "#1. Players Count\n",
    "data.playerId.nunique()"
   ],
   "id": "639cf581cddaba36",
   "outputs": [
    {
     "data": {
      "text/plain": [
       "160"
      ]
     },
     "execution_count": 37,
     "metadata": {},
     "output_type": "execute_result"
    }
   ],
   "execution_count": 37
  },
  {
   "metadata": {
    "ExecuteTime": {
     "end_time": "2025-01-18T05:12:01.583028Z",
     "start_time": "2025-01-18T05:12:01.566185Z"
    }
   },
   "cell_type": "code",
   "source": [
    "#2. Which Player has the most number of goals?\n",
    "goal_data = data[data.outcome == \"گُل\"]\n",
    "goal_data.playerId.value_counts().idxmax()"
   ],
   "id": "7e72467ff639e5d0",
   "outputs": [
    {
     "data": {
      "text/plain": [
       "'p_18'"
      ]
     },
     "execution_count": 44,
     "metadata": {},
     "output_type": "execute_result"
    }
   ],
   "execution_count": 44
  },
  {
   "metadata": {
    "ExecuteTime": {
     "end_time": "2025-01-18T05:15:50.041443Z",
     "start_time": "2025-01-18T05:15:50.036478Z"
    }
   },
   "cell_type": "code",
   "source": [
    "#3. Players That have Most rate shots to goal\n",
    "most_goal = goal_data.playerId.value_counts().idxmax()\n",
    "min_goal = goal_data.playerId.value_counts().idxmin()\n",
    "print(most_goal, min_goal)"
   ],
   "id": "ab47d845f0747b0",
   "outputs": [
    {
     "name": "stdout",
     "output_type": "stream",
     "text": [
      "p_18 p_141\n"
     ]
    }
   ],
   "execution_count": 53
  },
  {
   "metadata": {
    "ExecuteTime": {
     "end_time": "2025-01-18T06:03:30.636090Z",
     "start_time": "2025-01-18T06:03:30.556176Z"
    }
   },
   "cell_type": "code",
   "source": "data[\"distance\"] = data[[\"x\", \"y\"]].apply(lambda position: math.dist([0, 0], [position.x, position.y]), axis=1)",
   "id": "66703649ee741e91",
   "outputs": [],
   "execution_count": 93
  },
  {
   "metadata": {
    "ExecuteTime": {
     "end_time": "2025-01-18T06:10:55.827732Z",
     "start_time": "2025-01-18T06:10:55.806015Z"
    }
   },
   "cell_type": "code",
   "source": "data.describe()",
   "id": "c60bb830a1801f0f",
   "outputs": [
    {
     "data": {
      "text/plain": [
       "                 x            y  interveningOpponents  interveningTeammates  \\\n",
       "count  8925.000000  8925.000000           8925.000000           8925.000000   \n",
       "mean     14.564631     0.364408              2.531989              0.336471   \n",
       "std       7.841865     8.999063              1.386693              0.680175   \n",
       "min       0.000000   -33.920000              0.000000              0.000000   \n",
       "25%       8.480000    -5.740000              2.000000              0.000000   \n",
       "50%      12.470000     0.500000              2.000000              0.000000   \n",
       "75%      20.950000     6.730000              3.000000              0.000000   \n",
       "max      70.820000    33.920000             11.000000              7.000000   \n",
       "\n",
       "            minute       second     distance  \n",
       "count  8925.000000  8925.000000  8925.000000  \n",
       "mean     48.541401    29.243810    17.145509  \n",
       "std      26.397998    17.306565     7.794973  \n",
       "min       0.000000     0.000000     0.353553  \n",
       "25%      26.000000    14.000000    10.970000  \n",
       "50%      49.000000    29.000000    15.871950  \n",
       "75%      71.000000    44.000000    23.629932  \n",
       "max      98.000000    59.000000    71.783221  "
      ],
      "text/html": [
       "<div>\n",
       "<style scoped>\n",
       "    .dataframe tbody tr th:only-of-type {\n",
       "        vertical-align: middle;\n",
       "    }\n",
       "\n",
       "    .dataframe tbody tr th {\n",
       "        vertical-align: top;\n",
       "    }\n",
       "\n",
       "    .dataframe thead th {\n",
       "        text-align: right;\n",
       "    }\n",
       "</style>\n",
       "<table border=\"1\" class=\"dataframe\">\n",
       "  <thead>\n",
       "    <tr style=\"text-align: right;\">\n",
       "      <th></th>\n",
       "      <th>x</th>\n",
       "      <th>y</th>\n",
       "      <th>interveningOpponents</th>\n",
       "      <th>interveningTeammates</th>\n",
       "      <th>minute</th>\n",
       "      <th>second</th>\n",
       "      <th>distance</th>\n",
       "    </tr>\n",
       "  </thead>\n",
       "  <tbody>\n",
       "    <tr>\n",
       "      <th>count</th>\n",
       "      <td>8925.000000</td>\n",
       "      <td>8925.000000</td>\n",
       "      <td>8925.000000</td>\n",
       "      <td>8925.000000</td>\n",
       "      <td>8925.000000</td>\n",
       "      <td>8925.000000</td>\n",
       "      <td>8925.000000</td>\n",
       "    </tr>\n",
       "    <tr>\n",
       "      <th>mean</th>\n",
       "      <td>14.564631</td>\n",
       "      <td>0.364408</td>\n",
       "      <td>2.531989</td>\n",
       "      <td>0.336471</td>\n",
       "      <td>48.541401</td>\n",
       "      <td>29.243810</td>\n",
       "      <td>17.145509</td>\n",
       "    </tr>\n",
       "    <tr>\n",
       "      <th>std</th>\n",
       "      <td>7.841865</td>\n",
       "      <td>8.999063</td>\n",
       "      <td>1.386693</td>\n",
       "      <td>0.680175</td>\n",
       "      <td>26.397998</td>\n",
       "      <td>17.306565</td>\n",
       "      <td>7.794973</td>\n",
       "    </tr>\n",
       "    <tr>\n",
       "      <th>min</th>\n",
       "      <td>0.000000</td>\n",
       "      <td>-33.920000</td>\n",
       "      <td>0.000000</td>\n",
       "      <td>0.000000</td>\n",
       "      <td>0.000000</td>\n",
       "      <td>0.000000</td>\n",
       "      <td>0.353553</td>\n",
       "    </tr>\n",
       "    <tr>\n",
       "      <th>25%</th>\n",
       "      <td>8.480000</td>\n",
       "      <td>-5.740000</td>\n",
       "      <td>2.000000</td>\n",
       "      <td>0.000000</td>\n",
       "      <td>26.000000</td>\n",
       "      <td>14.000000</td>\n",
       "      <td>10.970000</td>\n",
       "    </tr>\n",
       "    <tr>\n",
       "      <th>50%</th>\n",
       "      <td>12.470000</td>\n",
       "      <td>0.500000</td>\n",
       "      <td>2.000000</td>\n",
       "      <td>0.000000</td>\n",
       "      <td>49.000000</td>\n",
       "      <td>29.000000</td>\n",
       "      <td>15.871950</td>\n",
       "    </tr>\n",
       "    <tr>\n",
       "      <th>75%</th>\n",
       "      <td>20.950000</td>\n",
       "      <td>6.730000</td>\n",
       "      <td>3.000000</td>\n",
       "      <td>0.000000</td>\n",
       "      <td>71.000000</td>\n",
       "      <td>44.000000</td>\n",
       "      <td>23.629932</td>\n",
       "    </tr>\n",
       "    <tr>\n",
       "      <th>max</th>\n",
       "      <td>70.820000</td>\n",
       "      <td>33.920000</td>\n",
       "      <td>11.000000</td>\n",
       "      <td>7.000000</td>\n",
       "      <td>98.000000</td>\n",
       "      <td>59.000000</td>\n",
       "      <td>71.783221</td>\n",
       "    </tr>\n",
       "  </tbody>\n",
       "</table>\n",
       "</div>"
      ]
     },
     "execution_count": 101,
     "metadata": {},
     "output_type": "execute_result"
    }
   ],
   "execution_count": 101
  },
  {
   "metadata": {
    "ExecuteTime": {
     "end_time": "2025-01-18T06:10:42.760068Z",
     "start_time": "2025-01-18T06:10:42.747110Z"
    }
   },
   "cell_type": "code",
   "source": [
    "#4. Most Distance\n",
    "print(int(data.distance.max()))"
   ],
   "id": "934037ce1a31aba6",
   "outputs": [
    {
     "name": "stdout",
     "output_type": "stream",
     "text": [
      "71\n"
     ]
    }
   ],
   "execution_count": 100
  }
 ],
 "metadata": {
  "kernelspec": {
   "name": "python3",
   "language": "python",
   "display_name": "Python 3 (ipykernel)"
  }
 },
 "nbformat": 5,
 "nbformat_minor": 9
}
